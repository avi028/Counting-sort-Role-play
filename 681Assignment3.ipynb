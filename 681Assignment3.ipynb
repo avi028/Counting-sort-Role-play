{
  "nbformat": 4,
  "nbformat_minor": 0,
  "metadata": {
    "colab": {
      "name": "681Assignment3.ipynb",
      "provenance": [],
      "collapsed_sections": [],
      "include_colab_link": true
    },
    "kernelspec": {
      "name": "python3",
      "display_name": "Python 3"
    },
    "language_info": {
      "name": "python"
    }
  },
  "cells": [
    {
      "cell_type": "markdown",
      "metadata": {
        "id": "view-in-github",
        "colab_type": "text"
      },
      "source": [
        "<a href=\"https://colab.research.google.com/github/avi028/Counting-sort-Role-play/blob/main/681Assignment3.ipynb\" target=\"_parent\"><img src=\"https://colab.research.google.com/assets/colab-badge.svg\" alt=\"Open In Colab\"/></a>"
      ]
    },
    {
      "cell_type": "code",
      "execution_count": 86,
      "metadata": {
        "id": "5Ej1Rn3M_h0p"
      },
      "outputs": [],
      "source": [
        "import numpy as np\n",
        "import pandas as pd\n",
        "import time\n",
        "from sklearn.neural_network import MLPRegressor\n",
        "from sklearn.model_selection import train_test_split\n",
        "from sklearn.metrics import mean_absolute_percentage_error\n",
        "from sklearn.metrics import median_absolute_error\n",
        "from sklearn.linear_model import LogisticRegression\n",
        "from sklearn import metrics\n",
        "from sklearn.model_selection import cross_val_score\n",
        "from sklearn.metrics import mean_squared_error"
      ]
    },
    {
      "cell_type": "code",
      "source": [
        "from google.colab import drive\n",
        "drive.mount('/content/drive')"
      ],
      "metadata": {
        "colab": {
          "base_uri": "https://localhost:8080/"
        },
        "id": "IunIzKGJbQbk",
        "outputId": "08bcdd79-7524-4bad-bf30-c70f52a396b3"
      },
      "execution_count": 13,
      "outputs": [
        {
          "output_type": "stream",
          "name": "stdout",
          "text": [
            "Drive already mounted at /content/drive; to attempt to forcibly remount, call drive.mount(\"/content/drive\", force_remount=True).\n"
          ]
        }
      ]
    },
    {
      "cell_type": "code",
      "source": [
        "data = pd.read_csv(\"/content/drive/MyDrive/assignment3_data - Sheet23.csv\")\n",
        "data.tail"
      ],
      "metadata": {
        "id": "juyXJLgkBma6"
      },
      "execution_count": null,
      "outputs": []
    },
    {
      "cell_type": "code",
      "source": [
        "data['IO Bandwith Numeric'] = data['IO Bandwidth'].astype('str').str.extractall('(\\d+)').unstack().fillna('').sum(axis=1).astype(int)\n",
        "data['Memory Numeric'] = data['memory'].astype('str').str.extractall('(\\d+)').unstack().fillna('').sum(axis=1).astype(int)\n",
        "data['IO Size Numeric'] = data['iosize'].astype('str').str.extractall('(\\d+)').unstack().fillna('').sum(axis=1).astype(int)\n",
        "data['Thread Memory Numeric'] = data['threadMemory'].astype('str').str.extractall('(\\d+)').unstack().fillna('').sum(axis=1).astype(int)\n",
        "data = data.drop('IO Bandwidth', axis=1)\n",
        "data = data.drop('memory', axis=1)\n",
        "data = data.drop('iosize', axis=1)\n",
        "data = data.drop('threadMemory', axis=1)\n",
        "data[['Rd','Wr']] = data[\"Rd/Wr\"].str.split(\"/\",expand=True)\n",
        "data = data.drop('Rd/Wr', axis=1)\n",
        "data"
      ],
      "metadata": {
        "id": "W-Ev1eSzE_VK"
      },
      "execution_count": null,
      "outputs": []
    },
    {
      "cell_type": "code",
      "source": [
        "from sklearn import preprocessing\n",
        "col_list = list(data.columns)\n",
        "x = data.values #returns a numpy array\n",
        "min_max_scaler = preprocessing.MinMaxScaler()\n",
        "x_scaled = min_max_scaler.fit_transform(x)\n",
        "data = pd.DataFrame(x_scaled,columns=col_list)\n",
        "data"
      ],
      "metadata": {
        "id": "bBXg1ZB5NpvF"
      },
      "execution_count": null,
      "outputs": []
    },
    {
      "cell_type": "code",
      "source": [
        "col_list\n",
        "#targets = ['Rd','Wr','Throughput','ResponseTime','NoOfOperations','IO Size Numeric','IO Bandwith Numeric','cpuCore']\n",
        "targets = ['Rd','Wr','Throughput','ResponseTime','NoOfOperations']\n",
        "yTarget = ['ResponseTime']\n",
        "predictors = list(set(list(data.columns))-set(targets))\n",
        "X = data[predictors].values\n",
        "y = data[yTarget].values\n",
        "\n",
        "X_train, X_test, y_train, y_test = train_test_split(X, y, test_size=0.2,random_state=22,shuffle=True)\n",
        "print(X_train.shape); \n",
        "\n",
        "print(y_train.shape)"
      ],
      "metadata": {
        "id": "-ZXUKPNShGeT",
        "colab": {
          "base_uri": "https://localhost:8080/"
        },
        "outputId": "464dd2da-44f3-442e-b86f-a604a677ad93"
      },
      "execution_count": 46,
      "outputs": [
        {
          "output_type": "stream",
          "name": "stdout",
          "text": [
            "(1333, 8)\n",
            "(1333, 1)\n"
          ]
        }
      ]
    },
    {
      "cell_type": "code",
      "source": [
        "modal = MLPRegressor(hidden_layer_sizes=(20,20),activation=\"logistic\" ,solver=\"adam\",random_state=1, max_iter=100)\n",
        "modal.fit(X_train,y_train.ravel())\n",
        "y_pred = modal.predict(X_test)\n",
        "print(\"The Mean Squared Error\",())\n",
        "print(\"The Mean Absolute Percentage Error\", (mean_absolute_percentage_error(y_pred, y_test)))\n",
        "print(\"The Median Absloute Error\", (median_absolute_error(y_pred, y_test)))\n",
        "print(\"90th Percentile values for Prediction Error\" ,np.percentile(y_pred-y_test,90))"
      ],
      "metadata": {
        "id": "1vux-rF8gDsn",
        "colab": {
          "base_uri": "https://localhost:8080/"
        },
        "outputId": "590e3ff6-789d-4599-81e7-532c09875f6c"
      },
      "execution_count": 50,
      "outputs": [
        {
          "output_type": "stream",
          "name": "stdout",
          "text": [
            "The Mean Absolute Percentage Error 0.9226508780881763\n",
            "The Median Absloute Error 0.03238312647962846\n",
            "90th Percentile values for Prediction Error 0.05210751376217163\n"
          ]
        }
      ]
    },
    {
      "cell_type": "code",
      "source": [
        "modal = MLPRegressor(hidden_layer_sizes=(20,20),activation=\"logistic\" ,solver=\"lbfgs\",random_state=1, max_iter=100)\n",
        "modal.fit(X_train,y_train.ravel())\n",
        "y_pred = modal.predict(X_test)\n",
        "print(\"The Mean Squared Error\", (mean_squared_error(y_pred, y_test)))\n",
        "print(\"The Mean Absolute Percentage Error\", (mean_absolute_percentage_error(y_pred, y_test)))\n",
        "print(\"The Median Absloute Error\", (median_absolute_error(y_pred, y_test)))\n",
        "print(\"90th Percentile values for Prediction Error\" ,np.percentile(y_pred-y_test,90))"
      ],
      "metadata": {
        "id": "X9CWqoFmgJsL",
        "colab": {
          "base_uri": "https://localhost:8080/"
        },
        "outputId": "51847834-4115-4d9f-f273-fef168a220c6"
      },
      "execution_count": 87,
      "outputs": [
        {
          "output_type": "stream",
          "name": "stdout",
          "text": [
            "The Mean Squared Error 0.005313851207731179\n",
            "The Mean Absolute Percentage Error 1.017907937855992\n",
            "The Median Absloute Error 0.037602941445381725\n",
            "90th Percentile values for Prediction Error 0.10220086138545811\n"
          ]
        }
      ]
    },
    {
      "cell_type": "code",
      "source": [
        ""
      ],
      "metadata": {
        "colab": {
          "base_uri": "https://localhost:8080/"
        },
        "id": "w_m5qWows73L",
        "outputId": "3fa2d6ec-7aca-49eb-9a2b-218c85c53104"
      },
      "execution_count": 49,
      "outputs": [
        {
          "output_type": "stream",
          "name": "stdout",
          "text": [
            "The Mean Absolute Percentage Error 0.9226508780881763\n",
            "The Median Absloute Error 0.03238312647962846\n",
            "90th Percentile values for Prediction Error 0.05210751376217163\n"
          ]
        }
      ]
    },
    {
      "cell_type": "code",
      "source": [
        "from sklearn.svm import SVR\n",
        "modal2 = SVR(kernel = 'rbf')\n",
        "modal2.fit(X_train, y_train)\n"
      ],
      "metadata": {
        "colab": {
          "base_uri": "https://localhost:8080/"
        },
        "id": "xov41rtqg3vA",
        "outputId": "89150e29-7083-414e-a1b3-a68d48269cf4"
      },
      "execution_count": 44,
      "outputs": [
        {
          "output_type": "stream",
          "name": "stderr",
          "text": [
            "/usr/local/lib/python3.7/dist-packages/sklearn/utils/validation.py:993: DataConversionWarning: A column-vector y was passed when a 1d array was expected. Please change the shape of y to (n_samples, ), for example using ravel().\n",
            "  y = column_or_1d(y, warn=True)\n"
          ]
        },
        {
          "output_type": "execute_result",
          "data": {
            "text/plain": [
              "SVR()"
            ]
          },
          "metadata": {},
          "execution_count": 44
        }
      ]
    },
    {
      "cell_type": "code",
      "source": [
        "y_pred = modal2.predict(X_test)\n",
        "print(\"The Mean Absolute Percentage Error\", (mean_absolute_percentage_error(y_pred, y_test)))\n",
        "print(\"The Median Absloute Error\", (median_absolute_error(y_pred, y_test)))\n",
        "print(\"90th Percentile values for Prediction Error\" ,np.percentile(y_pred-y_test,90))"
      ],
      "metadata": {
        "colab": {
          "base_uri": "https://localhost:8080/"
        },
        "id": "oZIhpfawihbn",
        "outputId": "e663ef1d-7601-4d8e-c188-2824bca50d47"
      },
      "execution_count": 45,
      "outputs": [
        {
          "output_type": "stream",
          "name": "stdout",
          "text": [
            "The Mean Absolute Percentage Error 1.2262288497791984\n",
            "The Median Absloute Error 0.04548347767316649\n",
            "90th Percentile values for Prediction Error 0.12077756410737467\n"
          ]
        }
      ]
    },
    {
      "cell_type": "code",
      "source": [
        "print(\"Training time\\tavtivation Function\\tSolver\")\n",
        "for i in {'tanh','logistic','relu'}:\n",
        "  for j in {'adam','lbfgs','sgd'}:\n",
        "    modal = MLPRegressor(hidden_layer_sizes=(20,20),activation=i ,solver=j,random_state=1, max_iter=5000)\n",
        "    start = time.time()\n",
        "    score = cross_val_score(modal,X_train,y_train.ravel(),cv=5,scoring='neg_mean_squared_error')\n",
        "    stop = time.time()\n",
        "    print()\n",
        "    print(f\"{stop - start}s\",\"\\t\",i,\"\\t\",j,\"\\t\",abs(score.mean()))"
      ],
      "metadata": {
        "colab": {
          "base_uri": "https://localhost:8080/"
        },
        "id": "PWrh7vdQnxzA",
        "outputId": "beaf1c01-78d2-4e8e-a027-a7ad1e17fa39"
      },
      "execution_count": 80,
      "outputs": [
        {
          "output_type": "stream",
          "name": "stdout",
          "text": [
            "Training time\tavtivation Function\tSolver\n",
            "\n",
            "1.0843663215637207s \t tanh \t sgd \t 0.015360278056892773\n",
            "\n",
            "23.88743281364441s \t tanh \t lbfgs \t 0.018001698603743\n",
            "\n",
            "0.5349063873291016s \t tanh \t adam \t 0.012739834343746776\n",
            "\n",
            "0.2817113399505615s \t logistic \t sgd \t 0.014138829351026177\n",
            "\n",
            "0.4428093433380127s \t logistic \t lbfgs \t 0.0114301240503964\n",
            "\n",
            "0.3920259475708008s \t logistic \t adam \t 0.013769265669810007\n",
            "\n",
            "0.7043111324310303s \t relu \t sgd \t 0.022790182505764093\n",
            "\n",
            "11.192076683044434s \t relu \t lbfgs \t 0.016024809503694636\n",
            "\n",
            "0.6324732303619385s \t relu \t adam \t 0.010877584094121318\n"
          ]
        }
      ]
    },
    {
      "cell_type": "code",
      "source": [
        "import seaborn as sns\n",
        "import matplotlib.pyplot as plt\n",
        "\n",
        "# calculate the correlation matrix\n",
        "corr = data.corr()\n",
        "\n",
        "# plot the heatmap\n",
        "sns.heatmap(corr, \n",
        "        xticklabels=corr.columns,\n",
        "        yticklabels=corr.columns)"
      ],
      "metadata": {
        "colab": {
          "base_uri": "https://localhost:8080/",
          "height": 400
        },
        "id": "nBrOegtS3t7S",
        "outputId": "d90d2356-9e6f-4a65-eea9-2140d44af511"
      },
      "execution_count": 34,
      "outputs": [
        {
          "output_type": "execute_result",
          "data": {
            "text/plain": [
              "<matplotlib.axes._subplots.AxesSubplot at 0x7f38b6d44690>"
            ]
          },
          "metadata": {},
          "execution_count": 34
        },
        {
          "output_type": "display_data",
          "data": {
            "text/plain": [
              "<Figure size 432x288 with 2 Axes>"
            ],
            "image/png": "[encoded data removed]"
          },
          "metadata": {
            "needs_background": "light"
          }
        }
      ]
    }
  ]
}